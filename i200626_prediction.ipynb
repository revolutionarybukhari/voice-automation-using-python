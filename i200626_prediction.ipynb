{
 "cells": [
  {
   "cell_type": "code",
   "execution_count": 424,
   "id": "f988207b",
   "metadata": {},
   "outputs": [],
   "source": [
    "from zipfile import BadZipFile\n",
    "import librosa\n",
    "import soundfile as sf\n",
    "import pandas as pd\n",
    "import random\n",
    "from scipy.stats import skew\n",
    "from sklearn import preprocessing\n",
    "from sklearn.metrics import f1_score\n",
    "\n",
    "import numpy as np\n",
    "import math \n",
    "from zipfile import ZipFile\n",
    "import os\n",
    "from os import path\n",
    "from pydub import AudioSegment\n",
    "import shutil\n",
    "import numpy as np\n",
    "import itertools\n",
    "from sklearn.preprocessing import StandardScaler\n",
    "from sklearn.preprocessing import MinMaxScaler\n",
    "from sklearn.neighbors import KNeighborsClassifier\n",
    "from sklearn.metrics import accuracy_score  \n",
    "from sklearn.metrics import mean_absolute_error\n",
    "import matplotlib.pyplot as plt\n",
    "from sklearn.linear_model import LogisticRegression\n",
    "from sklearn import linear_model\n",
    "import pickle\n",
    "from sklearn.preprocessing import OrdinalEncoder\n",
    "from sklearn.model_selection import train_test_split\n",
    "from sklearn.metrics import classification_report\n"
   ]
  },
  {
   "cell_type": "markdown",
   "id": "52be9f7c",
   "metadata": {},
   "source": [
    "## Extracting the folder names"
   ]
  },
  {
   "cell_type": "code",
   "execution_count": 393,
   "id": "68e60b12",
   "metadata": {},
   "outputs": [
    {
     "name": "stdout",
     "output_type": "stream",
     "text": [
      "['a3fea48e-7716-4733-9c4c-b6c5c7112a69.wav']\n"
     ]
    }
   ],
   "source": [
    "folders_names=os.listdir(\"test\")\n",
    "files_name=[]\n",
    "# for i in folders_names:\n",
    "#     nm=os.listdir(f\"folder/test\")\n",
    "#     files_name.append(nm)\n",
    "files_name.append(folders_names)\n",
    "print(folders_names)"
   ]
  },
  {
   "cell_type": "markdown",
   "id": "9226f931",
   "metadata": {},
   "source": [
    "## This function takes an audio file can return its mfcc"
   ]
  },
  {
   "cell_type": "code",
   "execution_count": 394,
   "id": "b75a07c5",
   "metadata": {},
   "outputs": [],
   "source": [
    "def extract_features(file_name):\n",
    "    audio, sample_rate = librosa.load(file_name, res_type='kaiser_fast') \n",
    "    mfccs = librosa.feature.mfcc(y=audio, sr=sample_rate, n_mfcc=40)\n",
    "    mfccs_processed = np.mean(mfccs.T,axis=0)\n",
    "     \n",
    "    return mfccs_processed"
   ]
  },
  {
   "cell_type": "markdown",
   "id": "cf0cc1f7",
   "metadata": {},
   "source": [
    "## MFCC of all files with lables extracted"
   ]
  },
  {
   "cell_type": "code",
   "execution_count": 395,
   "id": "79c90135",
   "metadata": {},
   "outputs": [
    {
     "name": "stderr",
     "output_type": "stream",
     "text": [
      "C:\\Users\\HP\\anaconda3\\lib\\site-packages\\librosa\\core\\audio.py:165: UserWarning: PySoundFile failed. Trying audioread instead.\n",
      "  warnings.warn(\"PySoundFile failed. Trying audioread instead.\")\n"
     ]
    }
   ],
   "source": [
    "features = []\n",
    "\n",
    "# Iterate through each sound file and extract the features \n",
    "for folder1 in folders_names:\n",
    "    data = extract_features(f'C:/Users/Hp/Downloads/IDS_Semester_Project/test/{folder1}')\n",
    "    features.append([data, folder1])#mfcc and lables\n",
    "\n",
    "# Convert into a Panda dataframe \n",
    "featuresdf = pd.DataFrame(features, columns=['feature','class_label'])"
   ]
  },
  {
   "cell_type": "markdown",
   "id": "7a83fc14",
   "metadata": {},
   "source": [
    "## Lable encoding the names"
   ]
  },
  {
   "cell_type": "code",
   "execution_count": 396,
   "id": "c44fccd2",
   "metadata": {},
   "outputs": [],
   "source": [
    "from sklearn.preprocessing import LabelEncoder\n",
    "\n",
    "# Convert features and corresponding classification labels into numpy arrays\n",
    "X = np.array(featuresdf.feature.tolist())\n",
    "# y = np.array(featuresdf.class_label.tolist())\n",
    "\n",
    "# # Encode the classification labels\n",
    "# le = LabelEncoder()\n",
    "# yy = le.fit_transform(y)"
   ]
  },
  {
   "cell_type": "code",
   "execution_count": 397,
   "id": "61378df1",
   "metadata": {},
   "outputs": [
    {
     "data": {
      "text/plain": [
       "array([[-2.53980835e+02,  1.38580780e+02, -2.20203376e+00,\n",
       "         2.46127396e+01,  1.18268776e+01, -6.63316011e+00,\n",
       "        -6.05457067e+00,  8.98185158e+00, -7.40155363e+00,\n",
       "        -8.47376251e+00, -1.13151360e+01, -2.53666210e+00,\n",
       "        -1.04842310e+01, -1.08279085e+01, -1.47874784e+00,\n",
       "        -8.62504005e+00, -6.41838503e+00, -1.41340971e+00,\n",
       "        -1.04199333e+01,  2.95409322e+00, -8.92402649e+00,\n",
       "        -3.81967092e+00, -1.06549988e+01, -3.60098743e+00,\n",
       "        -1.88363445e+00, -3.97617674e+00, -9.81947660e-01,\n",
       "        -6.21363640e+00, -2.31690109e-01, -3.50196624e+00,\n",
       "        -8.86816263e-01, -5.06139612e+00, -2.71249199e+00,\n",
       "        -3.64683676e+00, -6.08371544e+00, -3.99642801e+00,\n",
       "        -4.38732147e+00, -5.92540646e+00, -1.98648167e+00,\n",
       "        -9.61139202e-02]], dtype=float32)"
      ]
     },
     "execution_count": 397,
     "metadata": {},
     "output_type": "execute_result"
    }
   ],
   "source": [
    "X"
   ]
  },
  {
   "cell_type": "markdown",
   "id": "0e69fd62",
   "metadata": {},
   "source": [
    "## KNeighborsClassifier"
   ]
  },
  {
   "cell_type": "code",
   "execution_count": 419,
   "id": "cf0a7942",
   "metadata": {},
   "outputs": [],
   "source": [
    "knn = pickle.load(open(\"knn.pkl\", 'rb'))"
   ]
  },
  {
   "cell_type": "code",
   "execution_count": 420,
   "id": "62861ad0",
   "metadata": {},
   "outputs": [],
   "source": [
    "y_pred =knn.predict(X)"
   ]
  },
  {
   "cell_type": "code",
   "execution_count": 421,
   "id": "a660e3ce",
   "metadata": {},
   "outputs": [
    {
     "name": "stdout",
     "output_type": "stream",
     "text": [
      "[1]\n"
     ]
    }
   ],
   "source": [
    "print(y_pred)"
   ]
  },
  {
   "cell_type": "markdown",
   "id": "33b3acd5",
   "metadata": {},
   "source": [
    "## SVM "
   ]
  },
  {
   "cell_type": "code",
   "execution_count": 401,
   "id": "5c2d16f8",
   "metadata": {},
   "outputs": [],
   "source": [
    "svm = pickle.load(open(\"svm.pkl\", 'rb'))\n"
   ]
  },
  {
   "cell_type": "code",
   "execution_count": 402,
   "id": "9394b783",
   "metadata": {},
   "outputs": [
    {
     "name": "stdout",
     "output_type": "stream",
     "text": [
      "[3]\n"
     ]
    }
   ],
   "source": [
    "#Predict the response for test dataset\n",
    "y_predct = svm.predict(X)\n",
    "print(y_predct)"
   ]
  },
  {
   "cell_type": "markdown",
   "id": "b34fa132",
   "metadata": {},
   "source": [
    "## LogisticRegression"
   ]
  },
  {
   "cell_type": "code",
   "execution_count": 403,
   "id": "3b41fe42",
   "metadata": {},
   "outputs": [],
   "source": [
    "logreg =pickle.load(open(\"logreg.pkl\", 'rb'))\n"
   ]
  },
  {
   "cell_type": "code",
   "execution_count": 404,
   "id": "9a188474",
   "metadata": {},
   "outputs": [
    {
     "name": "stdout",
     "output_type": "stream",
     "text": [
      "[3]\n"
     ]
    }
   ],
   "source": [
    "# STEP 3: make predictions on the testing set\n",
    "y_pred1 = logreg.predict(X)\n",
    "\n",
    "print(y_pred1)\n"
   ]
  },
  {
   "cell_type": "code",
   "execution_count": null,
   "id": "eefc4bdc",
   "metadata": {},
   "outputs": [],
   "source": []
  },
  {
   "cell_type": "markdown",
   "id": "05304354",
   "metadata": {},
   "source": [
    "## Gaussian Naive Bayes"
   ]
  },
  {
   "cell_type": "code",
   "execution_count": 405,
   "id": "8e0dc6f1",
   "metadata": {},
   "outputs": [],
   "source": [
    "gnb = pickle.load(open(\"gnb.pkl\", 'rb'))\n",
    "\n",
    "y_pred22 = gnb.predict(X)\n",
    " "
   ]
  },
  {
   "cell_type": "code",
   "execution_count": 406,
   "id": "7e546204",
   "metadata": {},
   "outputs": [
    {
     "name": "stdout",
     "output_type": "stream",
     "text": [
      "[3]\n"
     ]
    }
   ],
   "source": [
    "print(y_pred22)"
   ]
  },
  {
   "cell_type": "markdown",
   "id": "df85fb18",
   "metadata": {},
   "source": [
    "## DecisionTreeClassifier"
   ]
  },
  {
   "cell_type": "code",
   "execution_count": 407,
   "id": "de304cfe",
   "metadata": {},
   "outputs": [],
   "source": [
    "\n",
    "clf1 = pickle.load(open(\"decisiontree.pkl\", 'rb'))\n",
    "\n",
    "\n",
    "y_pred2 = clf1.predict(X)"
   ]
  },
  {
   "cell_type": "code",
   "execution_count": 408,
   "id": "3526ea03",
   "metadata": {},
   "outputs": [
    {
     "name": "stdout",
     "output_type": "stream",
     "text": [
      "[1]\n"
     ]
    }
   ],
   "source": [
    "print(y_pred2)"
   ]
  },
  {
   "cell_type": "markdown",
   "id": "7f330d5c",
   "metadata": {},
   "source": [
    "## GradientBoostingClassifier"
   ]
  },
  {
   "cell_type": "code",
   "execution_count": 416,
   "id": "74b0a4c3",
   "metadata": {},
   "outputs": [],
   "source": [
    "model = pickle.load(open(\"GradientBoosting.pkl\", 'rb'))\n",
    "\n"
   ]
  },
  {
   "cell_type": "code",
   "execution_count": 417,
   "id": "bc327cf6",
   "metadata": {},
   "outputs": [],
   "source": [
    "y_pred3 = model.predict(X)\n"
   ]
  },
  {
   "cell_type": "code",
   "execution_count": 418,
   "id": "8dc69f4d",
   "metadata": {},
   "outputs": [
    {
     "name": "stdout",
     "output_type": "stream",
     "text": [
      "[1]\n"
     ]
    }
   ],
   "source": [
    "print(y_pred3)"
   ]
  },
  {
   "cell_type": "markdown",
   "id": "1d67cc50",
   "metadata": {},
   "source": [
    "## RandomForestClassifier"
   ]
  },
  {
   "cell_type": "code",
   "execution_count": 412,
   "id": "65928274",
   "metadata": {},
   "outputs": [],
   "source": [
    "clf2=pickle.load(open(\"RandomForest.pkl\", 'rb'))\n",
    "p3=clf2.predict(X)"
   ]
  },
  {
   "cell_type": "code",
   "execution_count": null,
   "id": "a5b08d7e",
   "metadata": {},
   "outputs": [],
   "source": []
  },
  {
   "cell_type": "code",
   "execution_count": 413,
   "id": "af2d4d1b",
   "metadata": {},
   "outputs": [
    {
     "name": "stdout",
     "output_type": "stream",
     "text": [
      "[1]\n"
     ]
    }
   ],
   "source": [
    "print(p3)"
   ]
  },
  {
   "cell_type": "markdown",
   "id": "a883e395",
   "metadata": {},
   "source": [
    "# Results"
   ]
  },
  {
   "cell_type": "code",
   "execution_count": 414,
   "id": "70182227",
   "metadata": {},
   "outputs": [],
   "source": [
    "labs=[0,1,2,3]\n",
    "ans=['AC','light','song','tv']"
   ]
  },
  {
   "cell_type": "code",
   "execution_count": 422,
   "id": "86812f0c",
   "metadata": {},
   "outputs": [
    {
     "name": "stdout",
     "output_type": "stream",
     "text": [
      "KNN: light\n",
      "SVM: tv\n",
      "LogisticRegression tv\n",
      "Gaussian Naive Bayes tv\n",
      "Descision tree light\n",
      "GradientBoostingClassifier light\n",
      "RandomForest light\n"
     ]
    }
   ],
   "source": [
    "print(\"KNN:\",ans[y_pred[0]])\n",
    "print(\"SVM:\",ans[y_predct[0]])\n",
    "print(\"LogisticRegression\",ans[y_pred1[0]])\n",
    "print(\"Gaussian Naive Bayes\",ans[y_pred22[0]])\n",
    "print(\"Descision tree\",ans[y_pred2[0]])\n",
    "print(\"GradientBoostingClassifier\",ans[y_pred3[0]])\n",
    "print(\"RandomForest\",ans[p3[0]])"
   ]
  },
  {
   "cell_type": "code",
   "execution_count": null,
   "id": "90dc49ba",
   "metadata": {},
   "outputs": [],
   "source": [
    "from flask import Flask , render_template, request\n",
    "import numpy as np\n",
    "import pickle\n",
    "import joblib\n",
    "\n",
    "# import librosa\n",
    "# import soundfile as sf\n",
    "\n",
    "app = Flask(__name__)\n",
    "\n",
    "@app.route(\"/\")\n",
    "def hello_world():\n",
    "    return render_template('index.html')\n",
    "    \n"
   ]
  },
  {
   "cell_type": "code",
   "execution_count": null,
   "id": "8d5c0ad6",
   "metadata": {},
   "outputs": [],
   "source": [
    "if __name__ == \"__main__\":\n",
    "    app.run(debug=False)"
   ]
  },
  {
   "cell_type": "code",
   "execution_count": null,
   "id": "4a7bfefb",
   "metadata": {},
   "outputs": [],
   "source": []
  }
 ],
 "metadata": {
  "kernelspec": {
   "display_name": "Python 3",
   "language": "python",
   "name": "python3"
  },
  "language_info": {
   "codemirror_mode": {
    "name": "ipython",
    "version": 3
   },
   "file_extension": ".py",
   "mimetype": "text/x-python",
   "name": "python",
   "nbconvert_exporter": "python",
   "pygments_lexer": "ipython3",
   "version": "3.8.8"
  }
 },
 "nbformat": 4,
 "nbformat_minor": 5
}
