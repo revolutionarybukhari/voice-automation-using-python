{
 "cells": [
  {
   "cell_type": "code",
   "execution_count": 433,
   "id": "f988207b",
   "metadata": {},
   "outputs": [],
   "source": [
    "from zipfile import BadZipFile\n",
    "import librosa\n",
    "import soundfile as sf\n",
    "import pandas as pd\n",
    "import random\n",
    "from scipy.stats import skew\n",
    "from sklearn import preprocessing\n",
    "from sklearn.metrics import f1_score\n",
    "\n",
    "import numpy as np\n",
    "import math \n",
    "from zipfile import ZipFile\n",
    "import os\n",
    "from os import path\n",
    "from pydub import AudioSegment\n",
    "import shutil\n",
    "import numpy as np\n",
    "import itertools\n",
    "from sklearn.preprocessing import StandardScaler\n",
    "from sklearn.preprocessing import MinMaxScaler\n",
    "from sklearn.neighbors import KNeighborsClassifier\n",
    "from sklearn.metrics import accuracy_score  \n",
    "from sklearn.metrics import mean_absolute_error\n",
    "import matplotlib.pyplot as plt\n",
    "from sklearn.linear_model import LogisticRegression\n",
    "from sklearn import linear_model\n",
    "import pickle\n",
    "from sklearn.preprocessing import OrdinalEncoder\n",
    "from sklearn.model_selection import train_test_split\n",
    "from sklearn.metrics import classification_report\n"
   ]
  },
  {
   "cell_type": "markdown",
   "id": "52be9f7c",
   "metadata": {},
   "source": [
    "## Extracting the folder names"
   ]
  },
  {
   "cell_type": "code",
   "execution_count": 434,
   "id": "68e60b12",
   "metadata": {},
   "outputs": [
    {
     "name": "stdout",
     "output_type": "stream",
     "text": [
      "['1c5bc995-4c9e-42db-b139-82a1260936f7.wav', '31c2ce66-7e1b-45b4-b58d-adb13f00ca7a.wav', '8211b37b-a2dd-4862-b804-e6813ee0dcaf.wav', 'a6ee5c69-85ef-4bf5-b58e-417c6a6903c8.wav', 'f638fc6a-9411-46d7-b57e-59836f9075e2.wav']\n"
     ]
    }
   ],
   "source": [
    "folders_names=os.listdir(\"data\")\n",
    "files_name=[]\n",
    "# for i in folders_names:\n",
    "#     nm=os.listdir(f\"folder/test\")\n",
    "#     files_name.append(nm)\n",
    "files_name.append(folders_names)\n",
    "print(folders_names)"
   ]
  },
  {
   "cell_type": "markdown",
   "id": "9226f931",
   "metadata": {},
   "source": [
    "## This function takes an audio file can return its mfcc"
   ]
  },
  {
   "cell_type": "code",
   "execution_count": 435,
   "id": "b75a07c5",
   "metadata": {},
   "outputs": [],
   "source": [
    "def extract_features(file_name):\n",
    "    import librosa\n",
    "    audio, sample_rate = librosa.load(file_name, res_type='kaiser_fast') \n",
    "    mfccs = librosa.feature.mfcc(y=audio, sr=sample_rate, n_mfcc=40)\n",
    "    mfccs_processed = np.mean(mfccs.T,axis=0)\n",
    "     \n",
    "    return mfccs_processed"
   ]
  },
  {
   "cell_type": "markdown",
   "id": "cf0cc1f7",
   "metadata": {},
   "source": [
    "## MFCC of all files with lables extracted"
   ]
  },
  {
   "cell_type": "code",
   "execution_count": 436,
   "id": "51e8c0bb",
   "metadata": {},
   "outputs": [
    {
     "name": "stderr",
     "output_type": "stream",
     "text": [
      "C:\\Users\\HP\\anaconda3\\lib\\site-packages\\librosa\\core\\audio.py:165: UserWarning: PySoundFile failed. Trying audioread instead.\n",
      "  warnings.warn(\"PySoundFile failed. Trying audioread instead.\")\n"
     ]
    }
   ],
   "source": [
    "features = []\n",
    "\n",
    "# Iterate through each sound file and extract the features \n",
    "for folder1 in folders_names:\n",
    "    data = extract_features(f'data/{folder1}')\n",
    "    features.append([data, folder1])#mfcc and lables\n",
    "\n",
    "# Convert into a Panda dataframe \n",
    "featuresdf = pd.DataFrame(features, columns=['feature','class_label'])"
   ]
  },
  {
   "cell_type": "markdown",
   "id": "7a83fc14",
   "metadata": {},
   "source": [
    "## Lable encoding the names"
   ]
  },
  {
   "cell_type": "code",
   "execution_count": 437,
   "id": "c44fccd2",
   "metadata": {},
   "outputs": [],
   "source": [
    "from sklearn.preprocessing import LabelEncoder\n",
    "\n",
    "# Convert features and corresponding classification labels into numpy arrays\n",
    "X = np.array(featuresdf.feature.tolist())\n",
    "# y = np.array(featuresdf.class_label.tolist())\n",
    "\n",
    "# # Encode the classification labels\n",
    "# le = LabelEncoder()\n",
    "# yy = le.fit_transform(y)"
   ]
  },
  {
   "cell_type": "code",
   "execution_count": 438,
   "id": "61378df1",
   "metadata": {},
   "outputs": [
    {
     "data": {
      "text/plain": [
       "array([[-3.15994781e+02,  1.34337326e+02,  1.33210258e+01,\n",
       "         6.74023676e+00,  1.19348812e+00,  2.06326018e-03,\n",
       "        -4.86377664e-02, -8.79075909e+00, -1.78846359e+01,\n",
       "        -8.41509581e-01, -4.79962826e+00, -4.86320019e+00,\n",
       "        -4.74807787e+00, -6.84414148e+00, -1.01014490e+01,\n",
       "        -4.04926634e+00, -6.16196156e+00, -8.15282249e+00,\n",
       "        -6.55011415e+00, -4.20095730e+00, -1.20252542e+01,\n",
       "        -2.38313365e+00, -8.85501289e+00, -6.16366005e+00,\n",
       "        -1.06847572e+00, -5.15698671e+00, -2.18019819e+00,\n",
       "        -4.76403856e+00, -9.91168618e-01, -5.91214609e+00,\n",
       "        -4.49259377e+00, -3.90762472e+00, -4.27998829e+00,\n",
       "        -9.84212756e-01, -3.35846782e+00, -2.87054253e+00,\n",
       "        -3.37037277e+00, -2.77407861e+00,  1.16302639e-01,\n",
       "         5.81524372e-01],\n",
       "       [-3.59292694e+02,  1.08881683e+02,  1.66433454e+00,\n",
       "         2.20079079e+01,  1.00695992e+01,  1.55490792e+00,\n",
       "        -3.00604510e+00, -4.23665476e+00, -2.05188980e+01,\n",
       "        -8.32493877e+00, -8.77537823e+00, -6.34669256e+00,\n",
       "        -4.83540964e+00, -1.14800625e+01, -1.18890152e+01,\n",
       "         3.84866691e+00, -7.75828505e+00, -1.00053139e+01,\n",
       "        -2.14666533e+00, -2.63018060e+00, -1.42140818e+01,\n",
       "        -2.39157772e+00, -1.11114941e+01, -6.49647141e+00,\n",
       "        -6.04089403e+00, -5.23129845e+00, -2.88026333e+00,\n",
       "        -8.05425835e+00, -1.80977082e+00, -6.13355446e+00,\n",
       "        -3.09176207e+00, -2.47955108e+00,  1.64725935e+00,\n",
       "         1.70891881e+00, -1.64158916e+00, -1.28037882e+00,\n",
       "        -1.14610767e+00,  1.45896688e-01,  2.09013009e+00,\n",
       "        -5.54960549e-01],\n",
       "       [-3.36069916e+02,  1.49384521e+02,  1.12705278e+01,\n",
       "         1.77322105e-01, -9.26903152e+00,  1.29300928e+00,\n",
       "        -2.92628431e+00, -3.42073703e+00, -1.57561216e+01,\n",
       "         5.09641838e+00,  6.48787546e+00,  5.72968185e-01,\n",
       "        -2.28269267e+00, -1.10183430e+01, -4.97554684e+00,\n",
       "        -6.09183645e+00, -1.35791950e+01, -1.58425474e+00,\n",
       "        -5.44073486e+00, -2.04196310e+00,  7.42373526e-01,\n",
       "         4.92131472e-01, -8.11793137e+00, -5.80822849e+00,\n",
       "        -6.02411604e+00, -2.89101386e+00, -2.84812617e+00,\n",
       "         1.90825939e+00,  5.38206673e+00, -3.10189033e+00,\n",
       "         9.19224977e-01, -2.76104760e+00,  1.00111461e+00,\n",
       "        -4.36439848e+00, -1.10208869e+00, -2.25394177e+00,\n",
       "        -4.17295456e+00, -1.64633572e+00, -2.74566483e+00,\n",
       "         6.54248074e-02],\n",
       "       [-3.07262543e+02,  1.35317734e+02,  3.59497786e+00,\n",
       "         8.29739189e+00,  3.66617107e+00,  7.59253836e+00,\n",
       "         3.94329160e-01, -7.03817081e+00, -1.89296665e+01,\n",
       "        -1.25050306e+00, -8.73970509e+00, -6.98916817e+00,\n",
       "        -2.45805645e+00, -1.20153198e+01, -6.63443279e+00,\n",
       "         1.74415374e+00, -6.96380377e+00, -4.95091629e+00,\n",
       "        -7.32640743e+00, -8.11789227e+00, -7.87820435e+00,\n",
       "        -2.49935091e-01, -1.08112869e+01, -3.73018956e+00,\n",
       "        -8.14022636e+00, -2.43760729e+00, -2.21591210e+00,\n",
       "        -7.83664656e+00,  1.37758589e+00, -6.56001616e+00,\n",
       "        -2.39153790e+00, -7.43784761e+00, -2.65610218e+00,\n",
       "        -3.50310206e+00, -1.38295269e+00, -9.35934544e-01,\n",
       "        -3.51190543e+00, -1.76456976e+00,  9.38577354e-01,\n",
       "         1.48890293e+00],\n",
       "       [-3.26558380e+02,  1.39668839e+02,  5.22399330e+00,\n",
       "         4.44907665e+00, -1.99967694e+00,  1.41671002e+00,\n",
       "        -8.74916077e-01, -9.11195660e+00, -1.54959412e+01,\n",
       "        -4.45831299e-01, -8.96591473e+00, -4.05614424e+00,\n",
       "         1.34137774e+00, -6.15666771e+00, -8.65521908e+00,\n",
       "        -1.80932379e+00, -5.29667473e+00, -1.00663862e+01,\n",
       "        -7.67760038e+00,  6.61216140e-01, -1.23398438e+01,\n",
       "        -1.74338603e+00, -8.07614708e+00, -8.35209084e+00,\n",
       "        -1.12041853e-01, -2.23690891e+00, -3.09483647e+00,\n",
       "        -4.45397997e+00, -7.33946204e-01, -6.08417511e+00,\n",
       "        -3.38925171e+00, -3.56999493e+00, -3.24500203e+00,\n",
       "         1.36368716e+00, -3.02661729e+00, -1.34632635e+00,\n",
       "        -3.54090333e+00, -4.45928764e+00, -2.45830512e+00,\n",
       "        -1.20446980e+00]], dtype=float32)"
      ]
     },
     "execution_count": 438,
     "metadata": {},
     "output_type": "execute_result"
    }
   ],
   "source": [
    "X"
   ]
  },
  {
   "cell_type": "markdown",
   "id": "0e69fd62",
   "metadata": {},
   "source": [
    "## KNeighborsClassifier"
   ]
  },
  {
   "cell_type": "code",
   "execution_count": 439,
   "id": "cf0a7942",
   "metadata": {},
   "outputs": [],
   "source": [
    "knn = pickle.load(open(\"knn.pkl\", 'rb'))"
   ]
  },
  {
   "cell_type": "code",
   "execution_count": 440,
   "id": "62861ad0",
   "metadata": {},
   "outputs": [],
   "source": [
    "y_pred =knn.predict(X)"
   ]
  },
  {
   "cell_type": "code",
   "execution_count": 441,
   "id": "a660e3ce",
   "metadata": {},
   "outputs": [
    {
     "name": "stdout",
     "output_type": "stream",
     "text": [
      "[1 1 2 1 2]\n"
     ]
    }
   ],
   "source": [
    "print(y_pred)"
   ]
  },
  {
   "cell_type": "markdown",
   "id": "33b3acd5",
   "metadata": {},
   "source": [
    "## SVM "
   ]
  },
  {
   "cell_type": "code",
   "execution_count": 442,
   "id": "5c2d16f8",
   "metadata": {},
   "outputs": [],
   "source": [
    "svm = pickle.load(open(\"svm.pkl\", 'rb'))\n"
   ]
  },
  {
   "cell_type": "code",
   "execution_count": 443,
   "id": "9394b783",
   "metadata": {},
   "outputs": [
    {
     "name": "stdout",
     "output_type": "stream",
     "text": [
      "[1 3 2 1 1]\n"
     ]
    }
   ],
   "source": [
    "#Predict the response for test dataset\n",
    "y_predct = svm.predict(X)\n",
    "print(y_predct)"
   ]
  },
  {
   "cell_type": "markdown",
   "id": "b34fa132",
   "metadata": {},
   "source": [
    "## LogisticRegression"
   ]
  },
  {
   "cell_type": "code",
   "execution_count": 444,
   "id": "3b41fe42",
   "metadata": {},
   "outputs": [],
   "source": [
    "logreg =pickle.load(open(\"logreg.pkl\", 'rb'))\n"
   ]
  },
  {
   "cell_type": "code",
   "execution_count": 445,
   "id": "9a188474",
   "metadata": {},
   "outputs": [
    {
     "name": "stdout",
     "output_type": "stream",
     "text": [
      "[1 3 2 1 1]\n"
     ]
    }
   ],
   "source": [
    "# STEP 3: make predictions on the testing set\n",
    "y_pred1 = logreg.predict(X)\n",
    "\n",
    "print(y_pred1)\n"
   ]
  },
  {
   "cell_type": "code",
   "execution_count": null,
   "id": "eefc4bdc",
   "metadata": {},
   "outputs": [],
   "source": []
  },
  {
   "cell_type": "markdown",
   "id": "05304354",
   "metadata": {},
   "source": [
    "## Gaussian Naive Bayes"
   ]
  },
  {
   "cell_type": "code",
   "execution_count": 446,
   "id": "8e0dc6f1",
   "metadata": {},
   "outputs": [],
   "source": [
    "gnb = pickle.load(open(\"gnb.pkl\", 'rb'))\n",
    "\n",
    "y_pred22 = gnb.predict(X)\n",
    " "
   ]
  },
  {
   "cell_type": "code",
   "execution_count": 447,
   "id": "7e546204",
   "metadata": {},
   "outputs": [
    {
     "name": "stdout",
     "output_type": "stream",
     "text": [
      "[2 1 2 2 2]\n"
     ]
    }
   ],
   "source": [
    "print(y_pred22)"
   ]
  },
  {
   "cell_type": "markdown",
   "id": "df85fb18",
   "metadata": {},
   "source": [
    "## DecisionTreeClassifier"
   ]
  },
  {
   "cell_type": "code",
   "execution_count": 448,
   "id": "de304cfe",
   "metadata": {},
   "outputs": [],
   "source": [
    "\n",
    "clf1 = pickle.load(open(\"decisiontree.pkl\", 'rb'))\n",
    "\n",
    "\n",
    "y_pred2 = clf1.predict(X)"
   ]
  },
  {
   "cell_type": "code",
   "execution_count": 449,
   "id": "3526ea03",
   "metadata": {},
   "outputs": [
    {
     "name": "stdout",
     "output_type": "stream",
     "text": [
      "[1 2 2 1 1]\n"
     ]
    }
   ],
   "source": [
    "print(y_pred2)"
   ]
  },
  {
   "cell_type": "markdown",
   "id": "7f330d5c",
   "metadata": {},
   "source": [
    "## GradientBoostingClassifier"
   ]
  },
  {
   "cell_type": "code",
   "execution_count": 450,
   "id": "74b0a4c3",
   "metadata": {},
   "outputs": [],
   "source": [
    "model = pickle.load(open(\"GradientBoosting.pkl\", 'rb'))\n",
    "\n"
   ]
  },
  {
   "cell_type": "code",
   "execution_count": 451,
   "id": "bc327cf6",
   "metadata": {},
   "outputs": [],
   "source": [
    "y_pred3 = model.predict(X)\n"
   ]
  },
  {
   "cell_type": "code",
   "execution_count": 452,
   "id": "8dc69f4d",
   "metadata": {},
   "outputs": [
    {
     "name": "stdout",
     "output_type": "stream",
     "text": [
      "[1 1 1 1 2]\n"
     ]
    }
   ],
   "source": [
    "print(y_pred3)"
   ]
  },
  {
   "cell_type": "markdown",
   "id": "1d67cc50",
   "metadata": {},
   "source": [
    "## RandomForestClassifier"
   ]
  },
  {
   "cell_type": "code",
   "execution_count": 453,
   "id": "65928274",
   "metadata": {},
   "outputs": [],
   "source": [
    "clf2=pickle.load(open(\"RandomForest.pkl\", 'rb'))\n",
    "p3=clf2.predict(X)"
   ]
  },
  {
   "cell_type": "code",
   "execution_count": null,
   "id": "a5b08d7e",
   "metadata": {},
   "outputs": [],
   "source": []
  },
  {
   "cell_type": "code",
   "execution_count": 454,
   "id": "af2d4d1b",
   "metadata": {},
   "outputs": [
    {
     "name": "stdout",
     "output_type": "stream",
     "text": [
      "[1 1 1 1 1]\n"
     ]
    }
   ],
   "source": [
    "print(p3)"
   ]
  },
  {
   "cell_type": "markdown",
   "id": "a883e395",
   "metadata": {},
   "source": [
    "# Results"
   ]
  },
  {
   "cell_type": "code",
   "execution_count": 455,
   "id": "70182227",
   "metadata": {},
   "outputs": [],
   "source": [
    "labs=[0,1,2,3]\n",
    "ans=['AC','light','song','tv']"
   ]
  },
  {
   "cell_type": "code",
   "execution_count": 456,
   "id": "86812f0c",
   "metadata": {},
   "outputs": [
    {
     "name": "stdout",
     "output_type": "stream",
     "text": [
      "KNN: light\n",
      "SVM: light\n",
      "LogisticRegression light\n",
      "Gaussian Naive Bayes song\n",
      "Descision tree light\n",
      "GradientBoostingClassifier light\n",
      "RandomForest light\n"
     ]
    }
   ],
   "source": [
    "print(\"KNN:\",ans[y_pred[0]])\n",
    "print(\"SVM:\",ans[y_predct[0]])\n",
    "print(\"LogisticRegression\",ans[y_pred1[0]])\n",
    "print(\"Gaussian Naive Bayes\",ans[y_pred22[0]])\n",
    "print(\"Descision tree\",ans[y_pred2[0]])\n",
    "print(\"GradientBoostingClassifier\",ans[y_pred3[0]])\n",
    "print(\"RandomForest\",ans[p3[0]])"
   ]
  },
  {
   "cell_type": "code",
   "execution_count": 457,
   "id": "90dc49ba",
   "metadata": {},
   "outputs": [],
   "source": [
    "# from flask import Flask , render_template, request\n",
    "# import numpy as np\n",
    "# import pickle\n",
    "# import joblib\n",
    "\n",
    "# # import librosa\n",
    "# # import soundfile as sf\n",
    "\n",
    "# app = Flask(__name__)\n",
    "\n",
    "# @app.route(\"/\")\n",
    "# def hello_world():\n",
    "#     return render_template('index.html')\n",
    "    \n"
   ]
  },
  {
   "cell_type": "code",
   "execution_count": 458,
   "id": "8d5c0ad6",
   "metadata": {},
   "outputs": [],
   "source": [
    "# if __name__ == \"__main__\":\n",
    "#     app.run(debug=False)"
   ]
  },
  {
   "cell_type": "code",
   "execution_count": null,
   "id": "4a7bfefb",
   "metadata": {},
   "outputs": [],
   "source": []
  }
 ],
 "metadata": {
  "kernelspec": {
   "display_name": "Python 3",
   "language": "python",
   "name": "python3"
  },
  "language_info": {
   "codemirror_mode": {
    "name": "ipython",
    "version": 3
   },
   "file_extension": ".py",
   "mimetype": "text/x-python",
   "name": "python",
   "nbconvert_exporter": "python",
   "pygments_lexer": "ipython3",
   "version": "3.8.8"
  }
 },
 "nbformat": 4,
 "nbformat_minor": 5
}
